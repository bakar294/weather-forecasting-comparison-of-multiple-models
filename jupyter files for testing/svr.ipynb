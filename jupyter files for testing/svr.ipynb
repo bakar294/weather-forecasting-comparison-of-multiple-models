{
 "cells": [
  {
   "cell_type": "code",
   "execution_count": 2,
   "id": "d3c6331f",
   "metadata": {},
   "outputs": [
    {
     "name": "stdout",
     "output_type": "stream",
     "text": [
      "<class 'pandas.core.frame.DataFrame'>\n",
      "RangeIndex: 3658 entries, 0 to 3657\n",
      "Data columns (total 6 columns):\n",
      " #   Column      Non-Null Count  Dtype  \n",
      "---  ------      --------------  -----  \n",
      " 0   Unnamed: 0  3658 non-null   int64  \n",
      " 1   year        3658 non-null   int64  \n",
      " 2   month       3658 non-null   int64  \n",
      " 3   day         3658 non-null   int64  \n",
      " 4   cycle       3658 non-null   float64\n",
      " 5   trend       3658 non-null   float64\n",
      "dtypes: float64(2), int64(4)\n",
      "memory usage: 171.6 KB\n"
     ]
    },
    {
     "data": {
      "text/plain": [
       "(   Unnamed: 0  year  month  day   cycle   trend\n",
       " 0           0  2013      1   20  395.64  394.41\n",
       " 1           1  2013      1   21  395.67  394.42\n",
       " 2           2  2013      1   22  395.69  394.43\n",
       " 3           3  2013      1   23  395.72  394.43\n",
       " 4           4  2013      1   24  395.75  394.44,\n",
       "        Unnamed: 0         year        month          day        cycle  \\\n",
       " count  3658.00000  3658.000000  3658.000000  3658.000000  3658.000000   \n",
       " mean   1828.50000  2017.561236     6.514489    15.738928   406.594702   \n",
       " std    1056.11797     2.886931     3.453418     8.797849     7.309785   \n",
       " min       0.00000  2013.000000     1.000000     1.000000   392.600000   \n",
       " 25%     914.25000  2015.000000     4.000000     8.000000   400.192500   \n",
       " 50%    1828.50000  2018.000000     7.000000    16.000000   406.905000   \n",
       " 75%    2742.75000  2020.000000    10.000000    23.000000   412.947500   \n",
       " max    3657.00000  2023.000000    12.000000    31.000000   419.610000   \n",
       " \n",
       "              trend  \n",
       " count  3658.000000  \n",
       " mean    406.593201  \n",
       " std       7.115691  \n",
       " min     394.410000  \n",
       " 25%     399.872500  \n",
       " 50%     406.645000  \n",
       " 75%     412.907500  \n",
       " max     418.330000  ,\n",
       " None)"
      ]
     },
     "execution_count": 2,
     "metadata": {},
     "output_type": "execute_result"
    }
   ],
   "source": [
    "import pandas as pd\n",
    "\n",
    "# Load the dataset\n",
    "file_path = 'Daily atmospheric CO2 concentration.csv'\n",
    "data = pd.read_csv(file_path)\n",
    "\n",
    "# Display the first few rows of the dataset and summary statistics to understand its structure\n",
    "data.head(), data.describe(), data.info()\n"
   ]
  },
  {
   "cell_type": "code",
   "execution_count": 3,
   "id": "e062f406",
   "metadata": {},
   "outputs": [
    {
     "data": {
      "text/plain": [
       "(             cycle   trend\n",
       " date                      \n",
       " 2013-01-20  395.64  394.41\n",
       " 2013-01-21  395.67  394.42\n",
       " 2013-01-22  395.69  394.43\n",
       " 2013-01-23  395.72  394.43\n",
       " 2013-01-24  395.75  394.44,\n",
       " (2743, 2),\n",
       " (915, 2))"
      ]
     },
     "execution_count": 3,
     "metadata": {},
     "output_type": "execute_result"
    }
   ],
   "source": [
    "from sklearn.model_selection import train_test_split\n",
    "\n",
    "# Drop the 'Unnamed: 0' column and create a datetime index\n",
    "data.drop(columns='Unnamed: 0', inplace=True)\n",
    "data['date'] = pd.to_datetime(data[['year', 'month', 'day']])\n",
    "data.set_index('date', inplace=True)\n",
    "data.drop(columns=['year', 'month', 'day'], inplace=True)\n",
    "\n",
    "# Split the data into training and testing sets\n",
    "train_data, test_data = train_test_split(data, test_size=0.25, shuffle=False)\n",
    "\n",
    "# Check the first few rows of the training data and its structure\n",
    "train_data.head(), train_data.shape, test_data.shape\n"
   ]
  },
  {
   "cell_type": "code",
   "execution_count": 8,
   "id": "1cff7168",
   "metadata": {},
   "outputs": [
    {
     "name": "stdout",
     "output_type": "stream",
     "text": [
      "Fitting 5 folds for each of 10 candidates, totalling 50 fits\n",
      "Best Parameters: {'svr__kernel': 'linear', 'svr__gamma': 'scale', 'svr__C': 10}\n",
      "Mean Squared Error: 8.735984399989539\n",
      "R² Score: -2.3844431184477783\n"
     ]
    }
   ],
   "source": [
    "import pandas as pd\n",
    "from sklearn.model_selection import train_test_split, RandomizedSearchCV\n",
    "from sklearn.svm import SVR\n",
    "from sklearn.preprocessing import StandardScaler\n",
    "from sklearn.pipeline import Pipeline\n",
    "from sklearn.metrics import mean_squared_error, r2_score\n",
    "\n",
    "# Load and prepare the dataset\n",
    "file_path = 'Daily atmospheric CO2 concentration.csv'\n",
    "data = pd.read_csv(file_path)\n",
    "data['date'] = pd.to_datetime(data[['year', 'month', 'day']])\n",
    "data.set_index('date', inplace=True)\n",
    "data.drop(columns=['Unnamed: 0', 'year', 'month', 'day'], inplace=True)  # Keep 'cycle' and 'trend'\n",
    "\n",
    "# Split the data into training and testing sets\n",
    "train_data, test_data = train_test_split(data, test_size=0.25, shuffle=False)\n",
    "\n",
    "# Scaling the features and setting up the SVR model\n",
    "scaler = StandardScaler()\n",
    "svr_pipeline = Pipeline([\n",
    "    ('scaler', scaler),\n",
    "    ('svr', SVR())\n",
    "])\n",
    "\n",
    "# Parameter distribution for RandomizedSearchCV\n",
    "param_dist = {\n",
    "    'svr__kernel': ['linear', 'rbf'],\n",
    "    'svr__C': [1, 10, 100],\n",
    "    'svr__gamma': ['scale', 'auto']\n",
    "}\n",
    "\n",
    "# Setup for RandomizedSearchCV\n",
    "random_search = RandomizedSearchCV(\n",
    "    svr_pipeline, param_dist, n_iter=10, cv=5, scoring='neg_mean_squared_error', verbose=1, random_state=42\n",
    ")\n",
    "\n",
    "# Train the model using 'cycle' as the feature and 'trend' as the target\n",
    "X_train = train_data[['cycle']]  # Ensure 'cycle' is used as the feature\n",
    "y_train = train_data['trend']\n",
    "random_search.fit(X_train, y_train)\n",
    "\n",
    "# Extract the best estimator and evaluate it on the test set\n",
    "best_model = random_search.best_estimator_\n",
    "X_test = test_data[['cycle']]  # Ensure 'cycle' is used as the feature for testing\n",
    "y_test = test_data['trend']\n",
    "y_pred = best_model.predict(X_test)\n",
    "mse = mean_squared_error(y_test, y_pred)\n",
    "r2 = r2_score(y_test, y_pred)\n",
    "\n",
    "# Print the results\n",
    "print(\"Best Parameters:\", random_search.best_params_)\n",
    "print(\"Mean Squared Error:\", mse)\n",
    "print(\"R² Score:\", r2)\n"
   ]
  },
  {
   "cell_type": "code",
   "execution_count": 12,
   "id": "f1df5e24",
   "metadata": {
    "scrolled": false
   },
   "outputs": [
    {
     "name": "stdout",
     "output_type": "stream",
     "text": [
      "Fitting 5 folds for each of 10 candidates, totalling 50 fits\n",
      "Best Parameters: {'svr__kernel': 'linear', 'svr__gamma': 'scale', 'svr__C': 10}\n",
      "Mean Squared Error: 8.735984399989539\n",
      "R² Score: -2.3844431184477783\n"
     ]
    },
    {
     "data": {
      "image/png": "[encoded data removed]",
      "text/plain": [
       "<Figure size 720x360 with 1 Axes>"
      ]
     },
     "metadata": {
      "needs_background": "light"
     },
     "output_type": "display_data"
    }
   ],
   "source": [
    "# Import necessary libraries\n",
    "import pandas as pd\n",
    "import matplotlib.pyplot as plt\n",
    "import numpy as np  # Ensure numpy is imported\n",
    "from sklearn.model_selection import train_test_split, RandomizedSearchCV\n",
    "from sklearn.svm import SVR\n",
    "from sklearn.preprocessing import StandardScaler\n",
    "from sklearn.pipeline import Pipeline\n",
    "from sklearn.metrics import mean_squared_error, r2_score\n",
    "\n",
    "# Load and prepare the dataset\n",
    "file_path = 'Daily atmospheric CO2 concentration.csv'\n",
    "data = pd.read_csv(file_path)\n",
    "data['date'] = pd.to_datetime(data[['year', 'month', 'day']])\n",
    "data.set_index('date', inplace=True)\n",
    "data.drop(columns=['Unnamed: 0', 'year', 'month', 'day'], inplace=True)  # Keep 'cycle' and 'trend'\n",
    "\n",
    "# Split the data into training and testing sets\n",
    "train_data, test_data = train_test_split(data, test_size=0.25, shuffle=False)\n",
    "\n",
    "# Scaling the features and setting up the SVR model\n",
    "scaler = StandardScaler()\n",
    "svr_pipeline = Pipeline([\n",
    "    ('scaler', scaler),\n",
    "    ('svr', SVR())\n",
    "])\n",
    "\n",
    "# Parameter distribution for RandomizedSearchCV\n",
    "param_dist = {\n",
    "    'svr__kernel': ['linear', 'rbf'],\n",
    "    'svr__C': [1, 10, 100],\n",
    "    'svr__gamma': ['scale', 'auto']\n",
    "}\n",
    "\n",
    "# Setup for RandomizedSearchCV\n",
    "random_search = RandomizedSearchCV(\n",
    "    svr_pipeline, param_dist, n_iter=10, cv=5, scoring='neg_mean_squared_error', verbose=1, random_state=42\n",
    ")\n",
    "\n",
    "# Train the model using 'cycle' as the feature and 'trend' as the target\n",
    "X_train = train_data[['cycle']]\n",
    "y_train = train_data['trend']\n",
    "random_search.fit(X_train, y_train)\n",
    "\n",
    "# Extract the best estimator and evaluate it on the test set\n",
    "best_model = random_search.best_estimator_\n",
    "X_test = test_data[['cycle']]\n",
    "y_test = test_data['trend']\n",
    "y_pred = best_model.predict(X_test)\n",
    "mse = mean_squared_error(y_test, y_pred)\n",
    "r2 = r2_score(y_test, y_pred)\n",
    "\n",
    "# Print the results\n",
    "print(\"Best Parameters:\", random_search.best_params_)\n",
    "print(\"Mean Squared Error:\", mse)\n",
    "print(\"R² Score:\", r2)\n",
    "\n",
    "# Plotting Predictions vs Actual\n",
    "plt.figure(figsize=(10, 5))\n",
    "plt.plot(y_test.index.to_pydatetime(), y_test.values, label='Actual Trend', color='blue')  # Convert to numpy array\n",
    "plt.plot(y_test.index.to_pydatetime(), y_pred, label='Predicted Trend', color='red', linestyle='--')\n",
    "plt.title('Actual vs Predicted CO2 Trend')\n",
    "plt.xlabel('Date')\n",
    "plt.ylabel('CO2 Trend')\n",
    "plt.legend()\n",
    "plt.show()\n"
   ]
  },
  {
   "cell_type": "code",
   "execution_count": null,
   "id": "3fd6cf38",
   "metadata": {},
   "outputs": [],
   "source": []
  },
  {
   "cell_type": "code",
   "execution_count": 13,
   "id": "5edc45ad",
   "metadata": {},
   "outputs": [
    {
     "name": "stdout",
     "output_type": "stream",
     "text": [
      "Fitting 5 folds for each of 10 candidates, totalling 50 fits\n",
      "Best Parameters: {'svr__gamma': 0.001, 'svr__C': 10}\n",
      "Mean Squared Error: 9.174555032571895\n",
      "R² Score: -2.554351544497443\n"
     ]
    },
    {
     "data": {
      "image/png": "[encoded data removed]",
      "text/plain": [
       "<Figure size 720x360 with 1 Axes>"
      ]
     },
     "metadata": {
      "needs_background": "light"
     },
     "output_type": "display_data"
    }
   ],
   "source": [
    "import pandas as pd\n",
    "import numpy as np\n",
    "import matplotlib.pyplot as plt\n",
    "from sklearn.model_selection import train_test_split, RandomizedSearchCV\n",
    "from sklearn.svm import SVR\n",
    "from sklearn.preprocessing import StandardScaler\n",
    "from sklearn.pipeline import Pipeline\n",
    "from sklearn.metrics import mean_squared_error, r2_score\n",
    "\n",
    "# Load and prepare the dataset\n",
    "file_path = 'Daily atmospheric CO2 concentration.csv'\n",
    "data = pd.read_csv(file_path)\n",
    "data['date'] = pd.to_datetime(data[['year', 'month', 'day']])\n",
    "data.set_index('date', inplace=True)\n",
    "data.drop(columns=['Unnamed: 0', 'year', 'month', 'day'], inplace=True)  # Keep 'cycle' and 'trend'\n",
    "\n",
    "# Split the data into training and testing sets\n",
    "train_data, test_data = train_test_split(data, test_size=0.25, shuffle=False)\n",
    "\n",
    "# Scaling the features and setting up the SVR model with RBF kernel\n",
    "scaler = StandardScaler()\n",
    "svr_pipeline = Pipeline([\n",
    "    ('scaler', scaler),\n",
    "    ('svr', SVR(kernel='rbf'))\n",
    "])\n",
    "\n",
    "# Parameter distribution for RandomizedSearchCV\n",
    "param_dist = {\n",
    "    'svr__C': [0.1, 1, 10, 100],\n",
    "    'svr__gamma': [0.001, 0.01, 0.1, 1]\n",
    "}\n",
    "\n",
    "# Setup for RandomizedSearchCV\n",
    "random_search = RandomizedSearchCV(\n",
    "    svr_pipeline, param_dist, n_iter=10, cv=5, scoring='neg_mean_squared_error', verbose=1, random_state=42\n",
    ")\n",
    "\n",
    "# Train the model using 'cycle' as the feature and 'trend' as the target\n",
    "X_train = train_data[['cycle']]\n",
    "y_train = train_data['trend']\n",
    "random_search.fit(X_train, y_train)\n",
    "\n",
    "# Extract the best estimator and evaluate it on the test set\n",
    "best_model = random_search.best_estimator_\n",
    "X_test = test_data[['cycle']]\n",
    "y_test = test_data['trend']\n",
    "y_pred = best_model.predict(X_test)\n",
    "mse = mean_squared_error(y_test, y_pred)\n",
    "r2 = r2_score(y_test, y_pred)\n",
    "\n",
    "# Print the results\n",
    "print(\"Best Parameters:\", random_search.best_params_)\n",
    "print(\"Mean Squared Error:\", mse)\n",
    "print(\"R² Score:\", r2)\n",
    "\n",
    "# Plotting Predictions vs Actual\n",
    "plt.figure(figsize=(10, 5))\n",
    "plt.plot(y_test.index.to_pydatetime(), y_test.values, label='Actual Trend', color='blue')  # Convert to numpy array\n",
    "plt.plot(y_test.index.to_pydatetime(), y_pred, label='Predicted Trend', color='red', linestyle='--')\n",
    "plt.title('Actual vs Predicted CO2 Trend with RBF Kernel')\n",
    "plt.xlabel('Date')\n",
    "plt.ylabel('CO2 Trend')\n",
    "plt.legend()\n",
    "plt.show()\n"
   ]
  },
  {
   "cell_type": "code",
   "execution_count": null,
   "id": "30329246",
   "metadata": {},
   "outputs": [],
   "source": []
  }
 ],
 "metadata": {
  "kernelspec": {
   "display_name": "Python 3 (ipykernel)",
   "language": "python",
   "name": "python3"
  },
  "language_info": {
   "codemirror_mode": {
    "name": "ipython",
    "version": 3
   },
   "file_extension": ".py",
   "mimetype": "text/x-python",
   "name": "python",
   "nbconvert_exporter": "python",
   "pygments_lexer": "ipython3",
   "version": "3.9.12"
  }
 },
 "nbformat": 4,
 "nbformat_minor": 5
}
